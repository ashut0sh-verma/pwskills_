{
  "nbformat": 4,
  "nbformat_minor": 0,
  "metadata": {
    "colab": {
      "provenance": []
    },
    "kernelspec": {
      "name": "python3",
      "display_name": "Python 3"
    },
    "language_info": {
      "name": "python"
    }
  },
  "cells": [
    {
      "cell_type": "code",
      "execution_count": 1,
      "metadata": {
        "id": "bdWuRMJnnU62"
      },
      "outputs": [],
      "source": [
        "#Q1\n",
        "# Qualitative Data - Data that describes qualities or categories. It doesn’t deal with numbers.\n",
        "  #for example - red. orange, yellow\n",
        "# Quantitative Data - Data that represents quantities or numbers. It allows mathematical operations.\n",
        "  #for example - 1,2,3,4,5 or age , height etc.\n",
        "\n",
        "\n",
        "# Nominal Scale - It involves categories that cannot be ranked or ordered.\n",
        "  #for example - types of flowers\n",
        "# Ordinal Scale - This type of data involves categories that can be ordered or ranked but difference between ranks is not clear .\n",
        "  #for example - good ,better, best\n",
        "# Interval Scale - This is numeric data where the differences between values are meaningful and no true zero like year , temprature.\n",
        "  #for example - 0 degree does not mean no temprature\n",
        "# Ratio Scale - Numeric data with meaningful differences and a true zero like weight, distance etc.\n",
        "  #for example - 0 ft means no height"
      ]
    },
    {
      "cell_type": "code",
      "source": [
        "#Q2\n",
        "# Measures of central tendency - Measures of central tendency are statistical tools that describe the center or middle point of a dataset.\n",
        "# The three most common measures of central tendency are the mean, median, and mode.\n",
        "\n",
        "\n",
        "# Mean is the average of a dataset. Mean= sum of all values/no of values.\n",
        "# Mean is used when we have continuous data with no extreme outliers.\n",
        "# Fro example we have marks of a student = 33, 54, 66, 39, 55\n",
        "# Then its mean will be 33+54+66+39+55/5 = 49.4\n",
        "\n",
        "\n",
        "# Median is the mid point of a dataset when data is arranged in order.\n",
        "# Median is used when data is skewed or has extreme outliers.\n",
        "# If there’s an odd number of values, the middle one is the median. (n/2)\n",
        "# marks = 33, 39, 54, 55, 66 . Median = 54\n",
        "# If there’s an even number of values, the median is the average of the two middle values.\n",
        "# marks = 33, 39, 54, 56, 66, 67 . Median = (54+56)/2 = 55\n",
        "\n",
        "# Mode is the most frequent value in the dataset.\n",
        "# Mode is used to determine the most frequent value, especially in categorical or discrete data.\n",
        "# Marks = 33, 39, 39, 54, 55, 66 , 66 , 66. Mode here will be 66 because it is most frequent value."
      ],
      "metadata": {
        "id": "vUUrAqBApivk"
      },
      "execution_count": 2,
      "outputs": []
    },
    {
      "cell_type": "code",
      "source": [
        "# Q3\n",
        "# Dispersion means how scattered data values are in a dataset.\n",
        "\n",
        "# Variance - It measures the average squared distance of each data point from the mean.\n",
        "# Larger variance means the data points are more spread out from the mean, while a smaller variance means the data points are closer to the mean.\n",
        "# Example - Data = 55, 55, 61 . Mean = 57\n",
        "# then variance will be [(55-57)**2 + (55-57)**2 + (61-57)**2]/3 then variance will be 8 unit\n",
        "\n",
        "\n",
        "# Standard Deviation - It is the square root of variance. It tells us the average distance of each data point from the mean.\n",
        "# large standard deviation means data points are spread out widely from the mean, and small standard deviation means they are clustered closely around the mean.\n",
        "#  std deviation will be 2.828\n",
        "# It means the data has a moderate level of spread."
      ],
      "metadata": {
        "id": "QPEiM7ueuIy-"
      },
      "execution_count": 3,
      "outputs": []
    },
    {
      "cell_type": "code",
      "source": [
        "# Q4\n",
        "# Box plot represents the distribution of data.\n",
        "# Box plot shows Median, First Quartile , Third Quartile , Upper Fence , Lower fence, Outliers.\n",
        "# If the box is symmetrical around the median, the data is evenly distributed.\n",
        "# If the box is longer on one side, the data is skewed.\n"
      ],
      "metadata": {
        "id": "ZCmrzthQxrQf"
      },
      "execution_count": 4,
      "outputs": []
    },
    {
      "cell_type": "code",
      "source": [
        "# Q5\n",
        "# Random sampling helps us study a small, randomly selected group and use that information to understand or predict something about the whole population.\n",
        "# Every member of the population has an equal chance of being chosen.\n",
        "# After collecting data from a random sample, we use statistical methods to infer or predict characteristics of the entire population.\n",
        "# By using random sampling, the statistics calculated from the sample are more likely to be close to the true values for the entire population.\n"
      ],
      "metadata": {
        "id": "nVUxP5Hny6aS"
      },
      "execution_count": 6,
      "outputs": []
    },
    {
      "cell_type": "code",
      "source": [
        "# Q6\n",
        "# Skewness tells us whether the data is symmetrical or if it leans more toward one side.\n",
        "\n",
        "# Types - Symmetrical Distribution (No Skewness) - The data is evenly spread on both sides of the center.\n",
        "#         Right-Skewed Distribution (Positively Skewed) - Right skewed data means most of the values are small, but a few large ones make the data \"lean\" to the right.\n",
        "#         Left-Skewed Distribution (Negatively Skewed) - Left skewed data means most of the values are large, but a few small ones make the data \"lean\" to the left.\n",
        "\n",
        "# In right-skewed data, the mean is greater than the median. In left-skewed data, the mean is less than the median.\n",
        "# Median is a better measure of central tendency in skewed data.\n",
        "# In right-skewed data, the outliers are on the high end, and in left-skewed data, they are on the low end.\n"
      ],
      "metadata": {
        "id": "o_A63fih0Xa2"
      },
      "execution_count": 7,
      "outputs": []
    },
    {
      "cell_type": "code",
      "source": [
        "#Q7\n",
        "# Interquartile range (IQR) measures the spread of the middle 50% of data.\n",
        "# It helps us understand the range of values in the middle of the dataset and is useful for identifying outliers.\n",
        "# The first quartile (Q1) is the value below which 25% of the data falls.\n",
        "# The third quartile (Q3) is the value below which 75% of the data falls.\n",
        "# IQR = Q3 - Q1 . This gives us the range of the middle 50% of the data.\n",
        "\n",
        "\n",
        "# Lower fence - Q1 - 1.5*IQR\n",
        "# Upper fence - Q3 + 1.5*IQR"
      ],
      "metadata": {
        "id": "zO3S2agG1WXN"
      },
      "execution_count": 8,
      "outputs": []
    },
    {
      "cell_type": "code",
      "source": [
        "# Q8\n",
        "# Bionomial Distribution -  The probability of getting k successes in n trials\n",
        "# Binomial distribution is used when you want to model the total number of successes over several independent trials.\n",
        "# Probablity of each output in evry trial should be same.\n"
      ],
      "metadata": {
        "id": "MfWMVnHG2UJs"
      },
      "execution_count": 9,
      "outputs": []
    },
    {
      "cell_type": "code",
      "source": [
        "# Q9\n",
        "# The normal distribution is important because many natural phenomena follow this pattern.\n",
        "# Normal distribution is symmetrical and bell-shaped.\n",
        "# It is defined by the mean and standard deviation.\n",
        "\n",
        "# The Empirical Rule (68-95-99.7 Rule) -\n",
        "# About 68% of the data falls within one standard deviation of the mean.\n",
        "# About 95% of the data falls within two standard deviations of the mean.\n",
        "# About 99.7% of the data falls within three standard deviations of the mean.\n"
      ],
      "metadata": {
        "id": "8s4kW5Yf3V5K"
      },
      "execution_count": 10,
      "outputs": []
    },
    {
      "cell_type": "code",
      "source": [
        "# Q10\n",
        "# Poisson process is a way to understand how often certain events happen over a specific period of time or in a certain space.\n",
        "\n",
        "#Example - A store that recieves 2 customers per hour. calculate the probability of receiving exactly 5 customers in an hour.\n",
        "# lambda = 2\n",
        "# k = 5\n",
        "# P(X = 5) = (λ**k * e**(-λ)) / k!\n",
        "# P(X = 5) = [2**5 * 2.71828**(-2)]/5!\n",
        "# P(X = 5) = (32 * 0.1353)/ 120\n",
        "# 0.0361 or 3.61% probablitity\n"
      ],
      "metadata": {
        "id": "xPRGzSHm4Z3B"
      },
      "execution_count": 11,
      "outputs": []
    },
    {
      "cell_type": "code",
      "source": [
        "#Q11\n",
        "# Random Variable is a variable that can take on different values based on the outcome of a random event.\n",
        "\n",
        "# Discreet random variable can take on a finite or countably infinite number of values.\n",
        "# Example - the no of students in the calss\n",
        "\n",
        "# continuous random variable can take on an infinite number of values within a given range.\n",
        "# Example - the height of students in the class"
      ],
      "metadata": {
        "id": "xRGs44qG7G8-"
      },
      "execution_count": 12,
      "outputs": []
    },
    {
      "cell_type": "code",
      "source": [
        "# Q12\n",
        "# Study Hours (X) - 1,2,3\n",
        "# Test Score (Y)  - 50,55,65\n",
        "# n = 2\n",
        "\n",
        "# covariance = 7.5\n",
        "# Both x and y moves in the same direction.\n",
        "# Positive value indicates that as study hours increase, test scores also tend to increase.\n",
        "\n",
        "\n",
        "# coraltion = 0.98 approx\n",
        "# There is a strong relationship between the number of hours studied and the test scores achieved.\n",
        "# The more hours a student studies, the higher their test scores are likely to be."
      ],
      "metadata": {
        "id": "Wfa0QzIn8Loj"
      },
      "execution_count": null,
      "outputs": []
    }
  ]
}