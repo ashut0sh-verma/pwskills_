{
  "nbformat": 4,
  "nbformat_minor": 0,
  "metadata": {
    "colab": {
      "provenance": []
    },
    "kernelspec": {
      "name": "python3",
      "display_name": "Python 3"
    },
    "language_info": {
      "name": "python"
    }
  },
  "cells": [
    {
      "cell_type": "code",
      "execution_count": 1,
      "metadata": {
        "id": "o87uQh-JHNE4"
      },
      "outputs": [],
      "source": [
        "import numpy as np\n",
        "import pandas as pd\n",
        "import seaborn as sns\n",
        "import scipy.stats as stats"
      ]
    },
    {
      "cell_type": "code",
      "source": [
        "# Q1\n",
        "# The Z-statistic or Z-score measures how far a data point or sample mean is from the population mean in terms of standard deviations.\n",
        "# It relates to the standard normal distribution, which has a mean of 0 and a standard deviation of 1.\n",
        "# In hypothesis testing, the Z-statistic helps decide if a sample mean is significantly different from the population mean by comparing it to the standard normal distribution.\n",
        "# If the Z-statistic is large and the p-value is small (below 0.05), we reject the null hypothesis."
      ],
      "metadata": {
        "id": "WkpXo2-BHbsj"
      },
      "execution_count": 2,
      "outputs": []
    },
    {
      "cell_type": "code",
      "source": [
        "# Q2\n",
        "# p-value helps decide if results are significant in hypothesis testing.\n",
        "# If the p-value is very small, like 0.01, it means -\n",
        "# There’s only a 1% chance of observing the results you got if the null hypothesis is true.\n",
        "# A small p-value indicates strong evidence against the null hypothesis, while a large p-value suggests there is not enough evidence to make a conclusion."
      ],
      "metadata": {
        "id": "hEssoeTjIGdy"
      },
      "execution_count": 3,
      "outputs": []
    },
    {
      "cell_type": "code",
      "source": [
        "# Q3\n",
        "# burnauli distribution -- either failure or success (0 or 1)\n",
        "#                          -- unlimited trials and each trails should be independent\n",
        "#                          -- probablity of each output in evry trial should be same\n",
        "# binomial distribution >> The probability of getting k successes in n trials\n",
        "                          #  -- Multiple trials with success counts\n",
        "# Bernoulli distribution is for one trial, while the Binomial distribution is for many trials. The binomial distribution builds upon the Bernoulli distribution by counting the number of successes across multiple independent trials."
      ],
      "metadata": {
        "id": "8Q9ch5K5JLE2"
      },
      "execution_count": 4,
      "outputs": []
    },
    {
      "cell_type": "code",
      "source": [
        "# Q4\n",
        "# Bernoulli distribution is for one trial, while the Binomial distribution is for many trials.\n",
        "# The binomial distribution builds upon the Bernoulli distribution by counting the number of successes across multiple independent trials.\n",
        "# binomial distribution >> The probability of getting k successes in n trials\n",
        "                          #  -- Multiple trials with success counts\n",
        "\n",
        "\n",
        "# If we have a series of n independent Bernoulli trials (each with the same probability of success p),\n",
        "# the Binomial distribution calculates the probability of achieving a certain number of successes (k) across those n trials."
      ],
      "metadata": {
        "id": "SeX7dh67JxW_"
      },
      "execution_count": 5,
      "outputs": []
    },
    {
      "cell_type": "code",
      "source": [
        "# Q5\n",
        "# The Poisson distribution is useful for modeling the number of events happening in a fixed interval of time or space\n",
        "# especially when those events are independent and occur at a constant average rate.\n",
        "\n",
        "# The Poisson distribution deals with discrete events, meaning you can count them .\n",
        "# It applies to a fixed interval of time or space like 10 minutes, 1 square kilometer.\n",
        "# We can count how many times an event happens in that interval.\n",
        "# The events are independent. The occurrence of one event does not affect the occurrence of another."
      ],
      "metadata": {
        "id": "J3RXsMLPKRGn"
      },
      "execution_count": 6,
      "outputs": []
    },
    {
      "cell_type": "code",
      "source": [
        "# Q6\n",
        "# Probability distribution describws how probabilities are assigned to outcomes.\n",
        "# It tells us the likelihood of each outcome occurring.\n",
        "# Tyoes of probability distribution -\n",
        "  # Discrete Random Variables have specific values that can be counted .\n",
        "  # Continuous Random Variables can take on any value within a range.\n",
        "# PDF is Used for continuous variables. it gives probabilities in terms of areas under a curve.\n",
        "# PMF is Used for discrete variables and it gives exact probabilities for specific values."
      ],
      "metadata": {
        "id": "Nv3rFpW_LDR_"
      },
      "execution_count": 7,
      "outputs": []
    },
    {
      "cell_type": "code",
      "source": [
        "# Q7\n",
        "# central limit theorem >>\n",
        "                            # --- a way to convert/approximate any distribution into normal distribution.\n",
        "                            #     the Central Limit Theorem says that when you take the average of many samples from any distribution,\n",
        "                            #     the distribution of those averages will form a normal (bell-shaped)\n",
        "                            #     curve if the sample size is large enough. This is true no matter what the original data looks like!\n",
        "\n",
        "                            #       >> the no of samples should be large enough\n",
        "                            #       >> the sample size should be >= 30\n",
        "                            #       >> if sample size <30 and sigma is not given it'll follow t distri."
      ],
      "metadata": {
        "id": "f4B1eH70MZB4"
      },
      "execution_count": 8,
      "outputs": []
    },
    {
      "cell_type": "code",
      "source": [
        "# Q8\n",
        "import matplotlib.pyplot as plt"
      ],
      "metadata": {
        "id": "QoPpDv0_MvYw"
      },
      "execution_count": 9,
      "outputs": []
    },
    {
      "cell_type": "code",
      "source": [
        "population = np.random.randint(10, 100, size=1000)"
      ],
      "metadata": {
        "id": "hlat3DSeNHd_"
      },
      "execution_count": 10,
      "outputs": []
    },
    {
      "cell_type": "code",
      "source": [
        "sample_size = 31\n",
        "num_samples = 1000\n",
        "def calculate_sample_means(population, sample_size, num_samples):\n",
        "    sample_means = []\n",
        "    for i in range(num_samples):\n",
        "        sample = np.random.choice(population, size=sample_size)\n",
        "        sample_means.append(np.mean(sample))\n",
        "    return sample_means"
      ],
      "metadata": {
        "id": "rhv5CCAKNSi0"
      },
      "execution_count": 21,
      "outputs": []
    },
    {
      "cell_type": "code",
      "source": [
        "sample_means = calculate_sample_means(population, sample_size, num_samples)"
      ],
      "metadata": {
        "id": "X1b_4jTbNndi"
      },
      "execution_count": 22,
      "outputs": []
    },
    {
      "cell_type": "code",
      "source": [
        "sns.histplot(population, bins=50, kde=True, color='red')\n",
        "plt.title('Population')\n",
        "plt.show()"
      ],
      "metadata": {
        "colab": {
          "base_uri": "https://localhost:8080/",
          "height": 452
        },
        "id": "XK9Lt822Nynd",
        "outputId": "e900540b-d77a-43f7-fae7-99b6a7ccbd3e"
      },
      "execution_count": 25,
      "outputs": [
        {
          "output_type": "display_data",
          "data": {
            "text/plain": [
              "<Figure size 640x480 with 1 Axes>"
            ],
            "image/png": "[encoded data removed]"
          },
          "metadata": {}
        }
      ]
    },
    {
      "cell_type": "code",
      "source": [
        "sns.histplot(sample_means, bins=50, kde=True, color='red')\n",
        "plt.title('Sample mean')\n",
        "plt.show()\n"
      ],
      "metadata": {
        "colab": {
          "base_uri": "https://localhost:8080/",
          "height": 452
        },
        "id": "KZaL9aXUOF1E",
        "outputId": "9e851cf0-03cf-44db-a65a-d8d0be60d830"
      },
      "execution_count": 26,
      "outputs": [
        {
          "output_type": "display_data",
          "data": {
            "text/plain": [
              "<Figure size 640x480 with 1 Axes>"
            ],
            "image/png": "[encoded data removed]"
          },
          "metadata": {}
        }
      ]
    },
    {
      "cell_type": "code",
      "source": [
        "# Q8\n",
        "# z-score indicates how many standard deviations a data point is from the mean of a dataset.\n",
        "# z-score is used when working with large sample size and know the population standard deviation, and the data is normally distributed.\n",
        "# t-score is similar to a z-score but is used when dealing with smaller sample sizes. It accounts for more variability.\n",
        "# t-score is used when working with small sample sizes (>30), unknown population standard deviation, and the data is approximately normal."
      ],
      "metadata": {
        "id": "AZeNlOy_O_HW"
      },
      "execution_count": 27,
      "outputs": []
    },
    {
      "cell_type": "code",
      "source": [
        "# Q9\n",
        "sample_mean = 105\n",
        "population_mean = 100\n",
        "population_std = 15\n",
        "sample_size = 25\n",
        "alpha = 0.05"
      ],
      "metadata": {
        "id": "BWDUVkTSQId8"
      },
      "execution_count": 28,
      "outputs": []
    },
    {
      "cell_type": "code",
      "source": [
        "z_score = (sample_mean - population_mean) / (population_std / np.sqrt(sample_size))\n",
        "z_score"
      ],
      "metadata": {
        "colab": {
          "base_uri": "https://localhost:8080/"
        },
        "id": "3bb6aPXtQ193",
        "outputId": "65edb681-dc71-43b3-832c-5c55b8c333b6"
      },
      "execution_count": 32,
      "outputs": [
        {
          "output_type": "execute_result",
          "data": {
            "text/plain": [
              "1.6666666666666667"
            ]
          },
          "metadata": {},
          "execution_count": 32
        }
      ]
    },
    {
      "cell_type": "code",
      "source": [
        "p_value = 2 * (1 - stats.norm.cdf(z_score))\n",
        "p_value"
      ],
      "metadata": {
        "colab": {
          "base_uri": "https://localhost:8080/"
        },
        "id": "8yCiIsqPROqC",
        "outputId": "59bc80e2-f8ce-44f7-efbe-790382f23b0e"
      },
      "execution_count": 36,
      "outputs": [
        {
          "output_type": "execute_result",
          "data": {
            "text/plain": [
              "0.09558070454562939"
            ]
          },
          "metadata": {},
          "execution_count": 36
        }
      ]
    },
    {
      "cell_type": "code",
      "source": [
        "if p_value <= alpha:\n",
        "    print(\"Reject the null hypothesis.\")\n",
        "else:\n",
        "    print(\"Fail to reject the null hypothesis.\")"
      ],
      "metadata": {
        "colab": {
          "base_uri": "https://localhost:8080/"
        },
        "id": "9GL9mXX3R8eB",
        "outputId": "a338e244-7d23-4229-afe6-e9dc2967312b"
      },
      "execution_count": 37,
      "outputs": [
        {
          "output_type": "stream",
          "name": "stdout",
          "text": [
            "Fail to reject the null hypothesis.\n"
          ]
        }
      ]
    },
    {
      "cell_type": "code",
      "source": [
        "# Q10\n",
        "trials = 10\n",
        "sample_size = 1000\n",
        "success_rate = 0.06\n",
        "samples = np.random.binomial(trials, success_rate, size=sample_size)\n"
      ],
      "metadata": {
        "id": "HMSkSSuESHxb"
      },
      "execution_count": 49,
      "outputs": []
    },
    {
      "cell_type": "code",
      "source": [
        "expected_mean = trials * success_rate\n",
        "expected_variance = trials * success_rate * (1 - success_rate)\n",
        "expected_mean , expected_variance"
      ],
      "metadata": {
        "colab": {
          "base_uri": "https://localhost:8080/"
        },
        "id": "CCjBLSVlTGnC",
        "outputId": "5d5efb54-0ccc-480a-a9f5-5b22b0349f22"
      },
      "execution_count": 50,
      "outputs": [
        {
          "output_type": "execute_result",
          "data": {
            "text/plain": [
              "(0.6, 0.564)"
            ]
          },
          "metadata": {},
          "execution_count": 50
        }
      ]
    },
    {
      "cell_type": "code",
      "source": [
        "sns.histplot(samples, bins=50, kde=True, color='red')\n",
        "plt.title('Sample')\n",
        "plt.xlabel('Number of Successes')\n",
        "plt.ylabel('Probability')\n",
        "plt.show()"
      ],
      "metadata": {
        "colab": {
          "base_uri": "https://localhost:8080/",
          "height": 472
        },
        "id": "8i8Y1IxBTcK0",
        "outputId": "78b50503-8ece-4898-969b-12bf3c53c707"
      },
      "execution_count": 51,
      "outputs": [
        {
          "output_type": "display_data",
          "data": {
            "text/plain": [
              "<Figure size 640x480 with 1 Axes>"
            ],
            "image/png": "[encoded data removed]"
          },
          "metadata": {}
        }
      ]
    },
    {
      "cell_type": "code",
      "source": [
        "np.mean(samples)"
      ],
      "metadata": {
        "colab": {
          "base_uri": "https://localhost:8080/"
        },
        "id": "2IjrNoW4T7-N",
        "outputId": "29b39e96-b8a1-459a-b4b7-b9bac55393ac"
      },
      "execution_count": 45,
      "outputs": [
        {
          "output_type": "execute_result",
          "data": {
            "text/plain": [
              "0.628"
            ]
          },
          "metadata": {},
          "execution_count": 45
        }
      ]
    },
    {
      "cell_type": "code",
      "source": [
        "np.var(samples)"
      ],
      "metadata": {
        "colab": {
          "base_uri": "https://localhost:8080/"
        },
        "id": "ghYO3D_5Ub1z",
        "outputId": "2d9458a3-e691-42c8-ae46-3adda64a3c15"
      },
      "execution_count": 47,
      "outputs": [
        {
          "output_type": "execute_result",
          "data": {
            "text/plain": [
              "0.599616"
            ]
          },
          "metadata": {},
          "execution_count": 47
        }
      ]
    },
    {
      "cell_type": "code",
      "source": [],
      "metadata": {
        "id": "YI7RRz09Unus"
      },
      "execution_count": null,
      "outputs": []
    }
  ]
}